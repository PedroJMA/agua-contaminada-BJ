{
 "cells": [
  {
   "cell_type": "markdown",
   "metadata": {},
   "source": [
    "\n",
    "2024-04-13\n",
    "\n",
    "# Hackathon por el agua contaminada en BJ, CDMX\n",
    "\n",
    "Estimadas y estimados vecinos de la BJ, \n",
    "se convoca a un ejercicio colaborativo de ciencia de datos (**Hackathon**) que tiene el objetivo de dimensionar la población afectada por la contaminación del agua en Alcaldía BJ, CDMX. \n",
    "\n",
    "Algunas de las preguntas que nos gustaría responder son: \n",
    "1. ¿Cuántas familias se han visto afectadas y que medidas se han tomado? \n",
    "2. ¿Cuántas personas viven, estudian, trabajan y consumen en las colonias afectadas ? \n",
    "3. ¿Cuántas niñas y niños conviven y estudian en la zona ? \n",
    "4. ¿Cuántos estudiantes se han visto afectados por el agua contaminada? \n",
    "5. ¿Cuántos adultos mayores han sido afectados en la zona? \n",
    "6. ¿Cuántas personas han sufrido problemas de salud por la contaminación del agua ? \n",
    "7. ¿Cuántos establecimientos se han visto afectados y que medidas se han tomado ? \n",
    "8. ¿Cuántos metros cúbicos de agua se han contaminado hasta el momento? \n",
    "9. ¿Cuáles son los distintos gastos de bolsillo de las familias por el agua contaminada? \n",
    "10. ¿Qué gastos han tenido los establecimientos en la zona ? \n",
    "\n",
    "Para ello se requiere estar familiarizado con información estadística pública (Censos de Población, registros administrativos, encuestas de hogares y empresas) y métodos estadísticos para analizar la información. En forma complementaria, se busca aplicar un cuestionario que recabe información directa de las y los afectados en la zona. \n",
    "\n",
    "Si estás interesada o interesado en participar en este ejercicio y cuentas con habilidades de programación (Python, R, Julia, Stata) y experiencia en manejo de datos, por favor envía un correo electrónico a: \n",
    "\n",
    "**agua.contaminada.BJ@gmail.com**\n",
    "\n",
    "Todas y todos son bienvenidos. "
   ]
  },
  {
   "cell_type": "markdown",
   "metadata": {},
   "source": []
  }
 ],
 "metadata": {
  "kernelspec": {
   "display_name": "Python 3.x",
   "language": "python",
   "name": "python3"
  },
  "language_info": {
   "name": "python",
   "version": "3"
  },
  "orig_nbformat": 4,
  "vscode": {
   "interpreter": {
    "hash": "31f2aee4e71d21fbe5cf8b01ff0e069b9275f58929596ceb00d14d90e3e16cd6"
   }
  }
 },
 "nbformat": 4,
 "nbformat_minor": 2
}
