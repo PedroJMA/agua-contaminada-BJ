{
 "cells": [
  {
   "cell_type": "markdown",
   "metadata": {},
   "source": [
    "\n",
    "# Hackathon por el agua contaminada en BJ, CDMX\n",
    "\n",
    "Estimadas y estimados vecinos de la BJ, \n",
    "se convoca a un ejercicio colaborativo de programación de datos (**Hackathon**) que tiene el objetivo de dimensionar la población afectada por la contaminación del agua en Alcaldía BJ, CDMX. \n",
    "\n",
    "Algunas de las preguntas que nos gustaría responder son: \n",
    "1. ¿Cuántas familias se han visto afectadas y que medidas han tomado? \n",
    "2. ¿Cuántas personas viven, estudian, trabajan y consumen en las colonias afectadas ? \n",
    "3. ¿Cuántas niñas y niños conviven y estudian en la zona afectada ? \n",
    "4. ¿Cuántos estudiantes se han visto afectados por el agua contaminada? \n",
    "5. ¿Cuántos adultos mayores han sido afectados en la zona? \n",
    "6. ¿Cuántas personas han sufrido problemas de salud por la contaminación del agua ? \n",
    "7. ¿Cuántos establecimientos se han visto afectados y que medidas han tomado ? \n",
    "8. ¿Cuántos metros cúbicos de agua se han contaminado ? \n",
    "9. ¿Cuáles son los distintos gastos de bolsillo de las familias por el agua contaminada? \n",
    "10. ¿Cuáles los gastos de los establecimientos afectados en la zona ? \n",
    "\n",
    "Para ello se requiere estar familiarizado con información estadística pública (Censos de Población, registros administrativos, encuestas de hogares y empresas) y métodos estadísticos para analizar la información. En forma complementaria, se busca aplicar un cuestionario que recabe información directa de las y los vecinos en la zona. \n",
    "\n",
    "Por tanto, si estás interesada o interesado en participar en este ejercicio y cuentas con habilidades de programación (Python, R, Julia, Stata) y manejo de datos, por favor envía un correo electrónico a \n",
    "**agua.contaminada.BJ@gmail.com**\n",
    "\n",
    "Todas y todos son bienvenidos. "
   ]
  },
  {
   "cell_type": "markdown",
   "metadata": {},
   "source": []
  }
 ],
 "metadata": {
  "language_info": {
   "name": "python"
  },
  "orig_nbformat": 4
 },
 "nbformat": 4,
 "nbformat_minor": 2
}
