{
 "cells": [
  {
   "cell_type": "markdown",
   "metadata": {},
   "source": [
    "\n",
    "2024-04-13\n",
    "\n",
    "# Hackathon por el agua contaminada en BJ, CDMX\n",
    "\n",
    "Estimadas y estimados vecinos de la BJ, \n",
    "se convoca a un ejercicio colaborativo de ciencia de datos (**Hackathon**) que tiene el objetivo de dimensionar la población afectada por la contaminación del agua en Alcaldía BJ, CDMX. \n",
    "\n",
    "Algunas de las preguntas que nos gustaría responder son: \n",
    "1. ¿Cuántas familias se han visto afectadas y que medidas se han tomado? \n",
    "2. ¿Cuántas personas viven, estudian, trabajan y consumen en las colonias afectadas ? \n",
    "3. ¿Cuántas niñas y niños conviven y estudian en la zona ? \n",
    "4. ¿Cuántos estudiantes se han visto afectados por el agua contaminada? \n",
    "5. ¿Cuántos adultos mayores han sido afectados en la zona? \n",
    "6. ¿Cuántas personas han sufrido problemas de salud por la contaminación del agua ? \n",
    "7. ¿Cuántos establecimientos se han visto afectados y que medidas se han tomado ? \n",
    "8. ¿Cuántos metros cúbicos de agua se han contaminado hasta el momento? \n",
    "9. ¿Cuáles son los distintos gastos de bolsillo de las familias por el agua contaminada? \n",
    "10. ¿Qué gastos han tenido los establecimientos en la zona ? \n",
    "\n",
    "Para ello se requiere estar familiarizado con información estadística pública (Censos de Población, registros administrativos, encuestas de hogares y empresas) y métodos estadísticos para analizar la información. En forma complementaria, se busca aplicar un cuestionario que recabe información directa de las y los afectados en la zona. \n",
    "\n",
    "Si estás interesada o interesado en participar en este ejercicio y cuentas con habilidades de programación (Python, R, Julia, Stata) y experiencia en manejo de datos, por favor envía un correo electrónico a: \n",
    "\n",
    "**agua.contaminada.BJ@gmail.com**\n",
    "\n",
    "Todas y todos son bienvenidos. "
   ]
  },
  {
   "cell_type": "code",
   "execution_count": 15,
   "metadata": {},
   "outputs": [],
   "source": [
    "### Código QR a jupyter notebook\n",
    "\n",
    "import qrcode\n",
    "\n",
    "qr = qrcode.QRCode(\n",
    "    version=1,\n",
    "    error_correction=qrcode.constants.ERROR_CORRECT_L,\n",
    "    box_size=7,\n",
    "    border=1,\n",
    ")\n",
    "qr.add_data(\"https://forms.gle/3WFhjj9KZbSfUw9q8\")\n",
    "qr.make(fit=True)\n",
    "img = qr.make_image(fill_color=\"white\", back_color=\"black\")\n",
    "img.save(\"Encuesta-vecinal-BJ.png\", scale=5, border=10)\n",
    "# qrcode.save(\"Encuesta-vecinal-BJ.png\", scale=5, border=10)"
   ]
  },
  {
   "cell_type": "code",
   "execution_count": 16,
   "metadata": {},
   "outputs": [
    {
     "data": {
      "image/png": "[encoded data removed]",
      "text/plain": [
       "<IPython.core.display.Image object>"
      ]
     },
     "execution_count": 16,
     "metadata": {},
     "output_type": "execute_result"
    }
   ],
   "source": [
    "from IPython.display import Image\n",
    "Image(\"Encuesta-vecinal-BJ.png\")"
   ]
  },
  {
   "cell_type": "code",
   "execution_count": null,
   "metadata": {},
   "outputs": [],
   "source": []
  }
 ],
 "metadata": {
  "kernelspec": {
   "display_name": "Python 3 (ipykernel)",
   "language": "python",
   "name": "python3"
  },
  "language_info": {
   "codemirror_mode": {
    "name": "ipython",
    "version": 3
   },
   "file_extension": ".py",
   "mimetype": "text/x-python",
   "name": "python",
   "nbconvert_exporter": "python",
   "pygments_lexer": "ipython3",
   "version": "3.9.7"
  },
  "vscode": {
   "interpreter": {
    "hash": "31f2aee4e71d21fbe5cf8b01ff0e069b9275f58929596ceb00d14d90e3e16cd6"
   }
  }
 },
 "nbformat": 4,
 "nbformat_minor": 2
}
